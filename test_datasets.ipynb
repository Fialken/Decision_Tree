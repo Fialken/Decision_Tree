{
 "cells": [
  {
   "cell_type": "code",
   "execution_count": 1,
   "metadata": {},
   "outputs": [],
   "source": [
    "from DecisionTree import DTree\n",
    "import pandas as pd"
   ]
  },
  {
   "cell_type": "code",
   "execution_count": 2,
   "metadata": {},
   "outputs": [
    {
     "name": "stdout",
     "output_type": "stream",
     "text": [
      "<Pat>\n",
      "    Some: Yes (4)\n",
      "    Full:\n",
      "        <Hun>\n",
      "            Yes:\n",
      "                <Type>\n",
      "                    Thai:\n",
      "                        <Fri>\n",
      "                            No: No (1)\n",
      "                            Yes: Yes (1)\n",
      "                    Italian: No (1)\n",
      "                    Burger: Yes (1)\n",
      "            No: No (2)\n",
      "    nan: Yes (12)\n",
      "\n"
     ]
    },
    {
     "data": {
      "text/plain": [
       "['Yes',\n",
       " 'No',\n",
       " 'Yes',\n",
       " 'Yes',\n",
       " 'No',\n",
       " 'Yes',\n",
       " 'Yes',\n",
       " 'Yes',\n",
       " 'No',\n",
       " 'No',\n",
       " 'Yes',\n",
       " 'Yes']"
      ]
     },
     "execution_count": 2,
     "metadata": {},
     "output_type": "execute_result"
    }
   ],
   "source": [
    "df1 = pd.read_csv(\"datasets/restaurant.csv\")\n",
    "\n",
    "arvore1 = DTree()\n",
    "arvore1.start_algorithm(df1)\n",
    "print(f\"Arvore gerada:\\n{arvore1}\\nPredicts:\")\n",
    "arvore1.predict(df1)"
   ]
  },
  {
   "cell_type": "code",
   "execution_count": 3,
   "metadata": {},
   "outputs": [
    {
     "name": "stdout",
     "output_type": "stream",
     "text": [
      "<Weather>\n",
      "    sunny:\n",
      "        <Humidity>\n",
      "            3.0: no (1)\n",
      "            4.0: no (2)\n",
      "            0.0: yes (2)\n",
      "    overcast: yes (4)\n",
      "    rainy:\n",
      "        <Windy>\n",
      "            False: yes (3)\n",
      "            True: no (2)\n",
      "\n"
     ]
    },
    {
     "data": {
      "text/plain": [
       "['no',\n",
       " 'no',\n",
       " 'yes',\n",
       " 'yes',\n",
       " 'yes',\n",
       " 'no',\n",
       " 'yes',\n",
       " 'no',\n",
       " 'yes',\n",
       " 'yes',\n",
       " 'yes',\n",
       " 'yes',\n",
       " 'yes',\n",
       " 'no']"
      ]
     },
     "execution_count": 3,
     "metadata": {},
     "output_type": "execute_result"
    }
   ],
   "source": [
    "df2 = pd.read_csv(\"datasets/weather.csv\")\n",
    "\n",
    "arvore2 = DTree()\n",
    "arvore2.start_algorithm(df2)\n",
    "print(f\"Arvore gerada:\\n{arvore2}\\nPredicts:\")\n",
    "arvore2.predict(df2)"
   ]
  },
  {
   "cell_type": "code",
   "execution_count": 8,
   "metadata": {},
   "outputs": [
    {
     "name": "stdout",
     "output_type": "stream",
     "text": [
      "Accuracy: 0.9333333333333333\n",
      "\n",
      "Real classification was correctly predicted or wrongly\n",
      "class-> | Iris-virginica | Iris-setosa | Iris-versicolor |\n",
      "correct |       14       |     14      |       14        |\n",
      "wrong   |       2        |      0      |        1        |\n",
      "\n",
      "<petalwidth>\n",
      "    3.0:\n",
      "        <sepallength>\n",
      "            2.0:\n",
      "                <petallength>\n",
      "                    3.0:\n",
      "                        <sepalwidth>\n",
      "                            1.0: Iris-virginica (5)\n",
      "                            2.0: Iris-virginica (5)\n",
      "                    2.0: Iris-versicolor (1)\n",
      "            3.0: Iris-virginica (1)\n",
      "            4.0: Iris-virginica (4)\n",
      "            1.0: Iris-virginica (1)\n",
      "            0.0: Iris-virginica (1)\n",
      "    0.0: Iris-setosa (35)\n",
      "    2.0:\n",
      "        <petallength>\n",
      "            2.0: Iris-versicolor (17)\n",
      "            3.0:\n",
      "                <sepallength>\n",
      "                    3.0: Iris-versicolor (5)\n",
      "                    2.0:\n",
      "                        <sepalwidth>\n",
      "                            2.0: Iris-versicolor (1)\n",
      "                            1.0: Iris-versicolor (3)\n",
      "            1.0: Iris-versicolor (1)\n",
      "    4.0: Iris-virginica (19)\n",
      "    1.0:\n",
      "        <sepalwidth>\n",
      "            1.0: Iris-versicolor (2)\n",
      "            0.0: Iris-versicolor (3)\n",
      "            3.0: Iris-setosa (1)\n",
      "\n"
     ]
    }
   ],
   "source": [
    "df3 = pd.read_csv(\"datasets/iris.csv\")\n",
    "\n",
    "arvore3 = DTree()\n",
    "arvore3.start_algorithm(df3,divide_df=True) \n",
    "# divide_df = True significa que ao desenvolver o algoritmo vamos dividir o dataset em 70% treino e 30% teste\n",
    "# ao fazer divide_df=True o algoritmo vai fazer predict aos 30% de teste\n",
    "# e calcular a accuracy e criar uma matrix de confusao para a classificacao real (se foi bem prevista ou nao)\n",
    "print(f\"Arvore gerada:\\n{arvore3}\")"
   ]
  },
  {
   "cell_type": "code",
   "execution_count": 10,
   "metadata": {},
   "outputs": [
    {
     "name": "stdout",
     "output_type": "stream",
     "text": [
      "Accuracy: 0.7483100606897913\n",
      "\n",
      "Real classification was correctly predicted or wrongly\n",
      "class-> | loss | win | draw |\n",
      "correct | 3272 | 11357 | 537  |\n",
      "wrong   | 1703 | 1995  | 1403 |\n",
      "\n"
     ]
    },
    {
     "data": {
      "text/plain": [
       "'print(arvore4) a arvore é extensa pelo que nao vamos imprimir'"
      ]
     },
     "execution_count": 10,
     "metadata": {},
     "output_type": "execute_result"
    }
   ],
   "source": [
    "df4 = pd.read_csv(\"datasets/connect4.csv\")\n",
    "\n",
    "arvore4 = DTree()\n",
    "arvore4.start_algorithm(df4,divide_df=True)\n",
    "# divide_df = True significa que ao desenvolver o algoritmo vamos dividir o dataset em 70% treino e 30% teste\n",
    "# ao fazer divide_df=True o algoritmo vai fazer predict aos 30% de teste\n",
    "# e calcular a accuracy e criar uma matrix de confusao para a classificacao real (se foi bem prevista ou nao)\n",
    "'''print(arvore4) a arvore é extensa pelo que nao vamos imprimir'''"
   ]
  }
 ],
 "metadata": {
  "kernelspec": {
   "display_name": "Python 3",
   "language": "python",
   "name": "python3"
  },
  "language_info": {
   "codemirror_mode": {
    "name": "ipython",
    "version": 3
   },
   "file_extension": ".py",
   "mimetype": "text/x-python",
   "name": "python",
   "nbconvert_exporter": "python",
   "pygments_lexer": "ipython3",
   "version": "3.10.11"
  }
 },
 "nbformat": 4,
 "nbformat_minor": 2
}
