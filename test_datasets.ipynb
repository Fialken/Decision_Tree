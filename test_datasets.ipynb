{
 "cells": [
  {
   "cell_type": "code",
   "execution_count": 1,
   "metadata": {},
   "outputs": [],
   "source": [
    "from DecisionTree import DTree\n",
    "import pandas as pd"
   ]
  },
  {
   "cell_type": "code",
   "execution_count": 2,
   "metadata": {},
   "outputs": [
    {
     "name": "stdout",
     "output_type": "stream",
     "text": [
      "<Pat>\n",
      "    Some: Yes (4)\n",
      "    Full:\n",
      "        <Hun>\n",
      "            Yes:\n",
      "                <Type>\n",
      "                    Thai:\n",
      "                        <Fri>\n",
      "                            No: No (1)\n",
      "                            Yes: Yes (1)\n",
      "                    Italian: No (1)\n",
      "                    Burger: Yes (1)\n",
      "            No: No (2)\n",
      "    nan: Yes (12)\n",
      "\n"
     ]
    }
   ],
   "source": [
    "df1 = pd.read_csv(\"datasets/restaurant.csv\")\n",
    "\n",
    "arvore1 = DTree()\n",
    "arvore1.start_algorithm(df1)\n",
    "print(arvore1)"
   ]
  },
  {
   "cell_type": "code",
   "execution_count": 3,
   "metadata": {},
   "outputs": [
    {
     "name": "stdout",
     "output_type": "stream",
     "text": [
      "<Weather>\n",
      "    sunny:\n",
      "        <Humidity>\n",
      "            3.0: no (1)\n",
      "            4.0: no (2)\n",
      "            0.0: yes (2)\n",
      "    overcast: yes (4)\n",
      "    rainy:\n",
      "        <Windy>\n",
      "            False: yes (3)\n",
      "            True: no (2)\n",
      "\n"
     ]
    },
    {
     "name": "stderr",
     "output_type": "stream",
     "text": [
      "C:\\Users\\joaob\\AppData\\Local\\Packages\\PythonSoftwareFoundation.Python.3.11_qbz5n2kfra8p0\\LocalCache\\local-packages\\Python311\\site-packages\\sklearn\\preprocessing\\_discretization.py:248: FutureWarning: In version 1.5 onwards, subsample=200_000 will be used by default. Set subsample explicitly to silence this warning in the mean time. Set subsample=None to disable subsampling explicitly.\n",
      "  warnings.warn(\n",
      "C:\\Users\\joaob\\AppData\\Local\\Packages\\PythonSoftwareFoundation.Python.3.11_qbz5n2kfra8p0\\LocalCache\\local-packages\\Python311\\site-packages\\sklearn\\preprocessing\\_discretization.py:248: FutureWarning: In version 1.5 onwards, subsample=200_000 will be used by default. Set subsample explicitly to silence this warning in the mean time. Set subsample=None to disable subsampling explicitly.\n",
      "  warnings.warn(\n"
     ]
    }
   ],
   "source": [
    "df2 = pd.read_csv(\"datasets/weather.csv\")\n",
    "\n",
    "arvore2 = DTree()\n",
    "arvore2.start_algorithm(df2)\n",
    "print(arvore2)"
   ]
  },
  {
   "cell_type": "code",
   "execution_count": 4,
   "metadata": {},
   "outputs": [
    {
     "name": "stdout",
     "output_type": "stream",
     "text": [
      "Accuracy: 0.9333333333333333\n",
      "\n",
      "Real classification was correctly predicted or wrongly\n",
      "class-> | Iris-setosa | Iris-versicolor | Iris-virginica |\n",
      "correct |     17      |        9        |       16       |\n",
      "wrong   |      0      |        3        |       0        |\n",
      "\n",
      "<petalwidth>\n",
      "    0.0: Iris-setosa (32)\n",
      "    4.0: Iris-virginica (17)\n",
      "    2.0:\n",
      "        <petallength>\n",
      "            2.0: Iris-versicolor (19)\n",
      "            3.0:\n",
      "                <sepallength>\n",
      "                    3.0: Iris-versicolor (6)\n",
      "                    2.0:\n",
      "                        <sepalwidth>\n",
      "                            2.0: Iris-versicolor (1)\n",
      "                            1.0: Iris-virginica (2)\n",
      "            1.0: Iris-versicolor (1)\n",
      "    3.0:\n",
      "        <sepallength>\n",
      "            4.0: Iris-virginica (4)\n",
      "            2.0:\n",
      "                <petallength>\n",
      "                    3.0:\n",
      "                        <sepalwidth>\n",
      "                            1.0: Iris-virginica (7)\n",
      "                            2.0: Iris-virginica (4)\n",
      "                    2.0: Iris-versicolor (1)\n",
      "            0.0: Iris-virginica (1)\n",
      "            3.0:\n",
      "                <sepalwidth>\n",
      "                    2.0:\n",
      "                        <petallength>\n",
      "                            3.0: Iris-virginica (2)\n",
      "            1.0: Iris-virginica (1)\n",
      "    1.0:\n",
      "        <sepalwidth>\n",
      "            1.0: Iris-versicolor (2)\n",
      "            3.0: Iris-setosa (1)\n",
      "            0.0: Iris-versicolor (4)\n",
      "\n"
     ]
    },
    {
     "name": "stderr",
     "output_type": "stream",
     "text": [
      "C:\\Users\\joaob\\AppData\\Local\\Packages\\PythonSoftwareFoundation.Python.3.11_qbz5n2kfra8p0\\LocalCache\\local-packages\\Python311\\site-packages\\sklearn\\preprocessing\\_discretization.py:248: FutureWarning: In version 1.5 onwards, subsample=200_000 will be used by default. Set subsample explicitly to silence this warning in the mean time. Set subsample=None to disable subsampling explicitly.\n",
      "  warnings.warn(\n",
      "C:\\Users\\joaob\\AppData\\Local\\Packages\\PythonSoftwareFoundation.Python.3.11_qbz5n2kfra8p0\\LocalCache\\local-packages\\Python311\\site-packages\\sklearn\\preprocessing\\_discretization.py:248: FutureWarning: In version 1.5 onwards, subsample=200_000 will be used by default. Set subsample explicitly to silence this warning in the mean time. Set subsample=None to disable subsampling explicitly.\n",
      "  warnings.warn(\n",
      "C:\\Users\\joaob\\AppData\\Local\\Packages\\PythonSoftwareFoundation.Python.3.11_qbz5n2kfra8p0\\LocalCache\\local-packages\\Python311\\site-packages\\sklearn\\preprocessing\\_discretization.py:248: FutureWarning: In version 1.5 onwards, subsample=200_000 will be used by default. Set subsample explicitly to silence this warning in the mean time. Set subsample=None to disable subsampling explicitly.\n",
      "  warnings.warn(\n",
      "C:\\Users\\joaob\\AppData\\Local\\Packages\\PythonSoftwareFoundation.Python.3.11_qbz5n2kfra8p0\\LocalCache\\local-packages\\Python311\\site-packages\\sklearn\\preprocessing\\_discretization.py:248: FutureWarning: In version 1.5 onwards, subsample=200_000 will be used by default. Set subsample explicitly to silence this warning in the mean time. Set subsample=None to disable subsampling explicitly.\n",
      "  warnings.warn(\n"
     ]
    }
   ],
   "source": [
    "df3 = pd.read_csv(\"datasets/iris.csv\")\n",
    "\n",
    "arvore3 = DTree()\n",
    "arvore3.start_algorithm(df3,divide_df=True)\n",
    "print(arvore3)"
   ]
  },
  {
   "cell_type": "code",
   "execution_count": null,
   "metadata": {},
   "outputs": [],
   "source": [
    "df4 = pd.read_csv(\"connect4/iris.csv\")\n",
    "\n",
    "arvore4 = DTree()\n",
    "arvore4.start_algorithm(df4,divide_df=True)\n",
    "print(arvore4)"
   ]
  }
 ],
 "metadata": {
  "kernelspec": {
   "display_name": "Python 3",
   "language": "python",
   "name": "python3"
  },
  "language_info": {
   "codemirror_mode": {
    "name": "ipython",
    "version": 3
   },
   "file_extension": ".py",
   "mimetype": "text/x-python",
   "name": "python",
   "nbconvert_exporter": "python",
   "pygments_lexer": "ipython3",
   "version": "3.11.9"
  }
 },
 "nbformat": 4,
 "nbformat_minor": 2
}
