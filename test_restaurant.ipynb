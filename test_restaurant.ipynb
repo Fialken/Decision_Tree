{
 "cells": [
  {
   "cell_type": "code",
   "execution_count": 4,
   "metadata": {},
   "outputs": [],
   "source": [
    "from DecisionTree import DTree\n",
    "import pandas as pd\n",
    "from sklearn.model_selection import train_test_split"
   ]
  },
  {
   "cell_type": "code",
   "execution_count": 5,
   "metadata": {},
   "outputs": [],
   "source": [
    "df = pd.read_csv(\"datasets/restaurant.csv\")\n",
    "dfy = df[\"Class\"]\n",
    "df.drop(columns='Class',inplace=True)\n",
    "df.drop(columns='ID',inplace=True)\n",
    "\n",
    "\n",
    "#dividir em sets de treino e teste\n",
    "X_train, X_test, y_train, y_test = train_test_split(df, dfy, test_size=0.3,random_state=321)\n",
    "\n",
    "\n",
    "arvore = DTree()"
   ]
  },
  {
   "cell_type": "code",
   "execution_count": 6,
   "metadata": {},
   "outputs": [
    {
     "name": "stdout",
     "output_type": "stream",
     "text": [
      "<Pat>\n",
      "    Some: Yes (4)\n",
      "    Full:\n",
      "        <Hun>\n",
      "            Yes:\n",
      "                <Type>\n",
      "                    Thai:\n",
      "                        <Fri>\n",
      "                            No: No (1)\n",
      "                            Yes: Yes (1)\n",
      "                    Italian: No (1)\n",
      "                    Burger: Yes (1)\n",
      "            No: No (2)\n",
      "    nan: No (12)\n",
      "\n"
     ]
    }
   ],
   "source": [
    "arvore.create_DTree(df,dfy)\n",
    "print(arvore)"
   ]
  }
 ],
 "metadata": {
  "kernelspec": {
   "display_name": "Python 3",
   "language": "python",
   "name": "python3"
  },
  "language_info": {
   "codemirror_mode": {
    "name": "ipython",
    "version": 3
   },
   "file_extension": ".py",
   "mimetype": "text/x-python",
   "name": "python",
   "nbconvert_exporter": "python",
   "pygments_lexer": "ipython3",
   "version": "3.10.11"
  }
 },
 "nbformat": 4,
 "nbformat_minor": 2
}
