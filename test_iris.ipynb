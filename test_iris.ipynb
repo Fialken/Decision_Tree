{
 "cells": [
  {
   "cell_type": "code",
   "execution_count": 1,
   "metadata": {},
   "outputs": [],
   "source": [
    "from DecisionTree import DTree\n",
    "import pandas as pd\n",
    "from sklearn.preprocessing import KBinsDiscretizer\n",
    "from sklearn.model_selection import train_test_split"
   ]
  },
  {
   "cell_type": "code",
   "execution_count": 2,
   "metadata": {},
   "outputs": [],
   "source": [
    "df = pd.read_csv(\"datasets/iris.csv\")\n",
    "dfy = df[\"class\"]\n",
    "df.drop(columns='class',inplace=True)\n",
    "df.drop(columns='ID',inplace=True)\n",
    "\n",
    "#discretizar valores numericos\n",
    "est = KBinsDiscretizer(n_bins=5, encode='ordinal', strategy='uniform')\n",
    "for attrib in df.columns:\n",
    "        df[attrib] = pd.DataFrame(est.fit_transform(df[attrib].to_frame()),columns=[attrib])\n",
    "\n",
    "#dividir em sets de treino e teste\n",
    "X_train, X_test, y_train, y_test = train_test_split(df, dfy, test_size=0.3,random_state=321)\n",
    "\n",
    "\n",
    "arvore = DTree()"
   ]
  },
  {
   "cell_type": "code",
   "execution_count": 12,
   "metadata": {},
   "outputs": [
    {
     "name": "stdout",
     "output_type": "stream",
     "text": [
      "<sepalwidth>\n",
      "    3.0:\n",
      "        <petallength>\n",
      "            0.0: Iris-setosa (17)\n",
      "            4.0: Iris-virginica (3)\n",
      "    2.0:\n",
      "        <petallength>\n",
      "            0.0: Iris-setosa (27)\n",
      "            3.0:\n",
      "                <sepallength>\n",
      "                    3.0:\n",
      "                        <petalwidth>\n",
      "                            2.0: Iris-versicolor (3)\n",
      "                            3.0: Iris-virginica (4)\n",
      "                            4.0: Iris-virginica (8)\n",
      "                    2.0:\n",
      "                        <petalwidth>\n",
      "                            3.0: Iris-virginica (6)\n",
      "                            2.0: Iris-versicolor (1)\n",
      "                            4.0: Iris-virginica (3)\n",
      "            2.0: Iris-versicolor (9)\n",
      "            4.0: Iris-virginica (8)\n",
      "    1.0:\n",
      "        <petallength>\n",
      "            0.0: Iris-setosa (1)\n",
      "            3.0:\n",
      "                <sepallength>\n",
      "                    3.0: Iris-versicolor (3)\n",
      "                    2.0:\n",
      "                        <petalwidth>\n",
      "                            2.0: Iris-versicolor (5)\n",
      "                            3.0: Iris-virginica (8)\n",
      "                            4.0: Iris-virginica (3)\n",
      "                    1.0: Iris-virginica (2)\n",
      "            2.0:\n",
      "                <petalwidth>\n",
      "                    2.0: Iris-versicolor (15)\n",
      "                    1.0: Iris-versicolor (2)\n",
      "                    3.0: Iris-virginica (1)\n",
      "            1.0: Iris-versicolor (1)\n",
      "            4.0: Iris-virginica (5)\n",
      "    4.0: Iris-setosa (4)\n",
      "    0.0:\n",
      "        <petalwidth>\n",
      "            0.0: Iris-setosa (1)\n",
      "            2.0:\n",
      "                <petallength>\n",
      "                    2.0: Iris-versicolor (4)\n",
      "                    3.0: Iris-virginica (1)\n",
      "            1.0: Iris-versicolor (5)\n",
      "\n"
     ]
    }
   ],
   "source": [
    "arvore.create_DTree(df,dfy)\n",
    "print(arvore)"
   ]
  }
 ],
 "metadata": {
  "kernelspec": {
   "display_name": "Python 3",
   "language": "python",
   "name": "python3"
  },
  "language_info": {
   "codemirror_mode": {
    "name": "ipython",
    "version": 3
   },
   "file_extension": ".py",
   "mimetype": "text/x-python",
   "name": "python",
   "nbconvert_exporter": "python",
   "pygments_lexer": "ipython3",
   "version": "3.10.11"
  }
 },
 "nbformat": 4,
 "nbformat_minor": 2
}
