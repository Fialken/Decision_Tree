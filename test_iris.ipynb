{
 "cells": [
  {
   "cell_type": "code",
   "execution_count": 9,
   "metadata": {},
   "outputs": [],
   "source": [
    "from DecisionTree import DTree\n",
    "from DecisionTree import Evaluation as EVA\n",
    "\n",
    "import pandas as pd\n",
    "from sklearn.preprocessing import KBinsDiscretizer\n",
    "from sklearn.model_selection import train_test_split"
   ]
  },
  {
   "cell_type": "code",
   "execution_count": 10,
   "metadata": {},
   "outputs": [],
   "source": [
    "df = pd.read_csv(\"datasets/iris.csv\")\n",
    "dfy = df[\"class\"]\n",
    "df.drop(columns='class',inplace=True)\n",
    "df.drop(columns='ID',inplace=True)\n",
    "\n",
    "#discretizar valores numericos\n",
    "est = KBinsDiscretizer(n_bins=5, encode='ordinal', strategy='uniform')\n",
    "for attrib in df.columns:\n",
    "        df[attrib] = pd.DataFrame(est.fit_transform(df[attrib].to_frame()),columns=[attrib])\n",
    "\n",
    "#dividir em sets de treino e teste\n",
    "X_train, X_test, y_train, y_test = train_test_split(df, dfy, test_size=0.3)\n",
    "\n",
    "\n",
    "arvore = DTree()"
   ]
  },
  {
   "cell_type": "code",
   "execution_count": 11,
   "metadata": {},
   "outputs": [
    {
     "name": "stdout",
     "output_type": "stream",
     "text": [
      "<petalwidth>\n",
      "    4.0: Iris-virginica (17)\n",
      "    0.0: Iris-setosa (28)\n",
      "    3.0:\n",
      "        <sepalwidth>\n",
      "            1.0: Iris-virginica (10)\n",
      "            2.0:\n",
      "                <petallength>\n",
      "                    3.0:\n",
      "                        <sepallength>\n",
      "                            2.0: Iris-virginica (6)\n",
      "                            3.0: Iris-virginica (3)\n",
      "                    4.0: Iris-virginica (1)\n",
      "                    2.0: Iris-versicolor (1)\n",
      "    2.0:\n",
      "        <petallength>\n",
      "            2.0: Iris-versicolor (25)\n",
      "            3.0:\n",
      "                <sepalwidth>\n",
      "                    1.0:\n",
      "                        <sepallength>\n",
      "                            3.0: Iris-versicolor (3)\n",
      "                            2.0: Iris-versicolor (3)\n",
      "                    2.0: Iris-versicolor (2)\n",
      "                    0.0: Iris-virginica (1)\n",
      "    1.0:\n",
      "        <sepalwidth>\n",
      "            0.0: Iris-versicolor (3)\n",
      "            1.0: Iris-versicolor (1)\n",
      "            3.0: Iris-setosa (1)\n",
      "\n"
     ]
    }
   ],
   "source": [
    "arvore.create_DTree(X_train,y_train)\n",
    "print(arvore)"
   ]
  },
  {
   "cell_type": "code",
   "execution_count": 12,
   "metadata": {},
   "outputs": [
    {
     "name": "stdout",
     "output_type": "stream",
     "text": [
      "0.9555555555555556\n",
      "\n",
      "Real classification was correctly predicted or wrongly\n",
      "class-> | Iris-setosa | Iris-versicolor | Iris-virginica |\n",
      "correct |     21      |        9        |       13       |\n",
      "wrong   |      0      |        1        |       1        |\n",
      "\n"
     ]
    }
   ],
   "source": [
    "pred = arvore.predict(X_test)\n",
    "EVA.accuracy(pred,y_test)\n",
    "print()\n",
    "EVA.confusion_matrix(pred,y_test)"
   ]
  }
 ],
 "metadata": {
  "kernelspec": {
   "display_name": "Python 3",
   "language": "python",
   "name": "python3"
  },
  "language_info": {
   "codemirror_mode": {
    "name": "ipython",
    "version": 3
   },
   "file_extension": ".py",
   "mimetype": "text/x-python",
   "name": "python",
   "nbconvert_exporter": "python",
   "pygments_lexer": "ipython3",
   "version": "3.10.11"
  }
 },
 "nbformat": 4,
 "nbformat_minor": 2
}
