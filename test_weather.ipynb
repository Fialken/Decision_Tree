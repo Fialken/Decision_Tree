{
 "cells": [
  {
   "cell_type": "code",
   "execution_count": 1,
   "metadata": {},
   "outputs": [],
   "source": [
    "from DecisionTree import DTree\n",
    "import pandas as pd\n",
    "from sklearn.preprocessing import KBinsDiscretizer"
   ]
  },
  {
   "cell_type": "code",
   "execution_count": 2,
   "metadata": {},
   "outputs": [],
   "source": [
    "df = pd.read_csv(\"datasets/weather.csv\")\n",
    "dfy = df[\"Play\"]\n",
    "df.drop(columns='Play',inplace=True)\n",
    "df.drop(columns='ID',inplace=True)\n",
    "\n",
    "#discretizar valores numericos\n",
    "est = KBinsDiscretizer(n_bins=5, encode='ordinal', strategy='uniform')\n",
    "df[\"Temp\"] = pd.DataFrame(est.fit_transform(df[\"Temp\"].to_frame()),columns=[\"Temp\"])\n",
    "df[\"Humidity\"] = pd.DataFrame(est.fit_transform(df[\"Humidity\"].to_frame()),columns=[\"Humidity\"])\n",
    "\n",
    "\n",
    "arvore = DTree()"
   ]
  },
  {
   "cell_type": "code",
   "execution_count": 3,
   "metadata": {},
   "outputs": [
    {
     "name": "stdout",
     "output_type": "stream",
     "text": [
      "<Weather>\n",
      "    sunny:\n",
      "        <Humidity>\n",
      "            3.0: no (1)\n",
      "            4.0: no (2)\n",
      "            0.0: yes (2)\n",
      "    overcast: yes (4)\n",
      "    rainy:\n",
      "        <Windy>\n",
      "            False: yes (3)\n",
      "            True: no (2)\n",
      "\n"
     ]
    }
   ],
   "source": [
    "arvore.create_DTree(df,dfy)\n",
    "print(arvore)"
   ]
  }
 ],
 "metadata": {
  "kernelspec": {
   "display_name": "Python 3",
   "language": "python",
   "name": "python3"
  },
  "language_info": {
   "codemirror_mode": {
    "name": "ipython",
    "version": 3
   },
   "file_extension": ".py",
   "mimetype": "text/x-python",
   "name": "python",
   "nbconvert_exporter": "python",
   "pygments_lexer": "ipython3",
   "version": "3.10.11"
  }
 },
 "nbformat": 4,
 "nbformat_minor": 2
}
