{
 "cells": [
  {
   "cell_type": "code",
   "execution_count": 31,
   "metadata": {},
   "outputs": [],
   "source": [
    "from DecisionTree import DTree\n",
    "import pandas as pd\n",
    "import numpy as np\n",
    "from sklearn.preprocessing import KBinsDiscretizer\n",
    "from sklearn.model_selection import train_test_split"
   ]
  },
  {
   "cell_type": "code",
   "execution_count": 32,
   "metadata": {},
   "outputs": [],
   "source": [
    "df = pd.read_csv(\"datasets/weather.csv\")\n",
    "dfy = df[\"Play\"]\n",
    "df.drop(columns='Play',inplace=True)\n",
    "df.drop(columns='ID',inplace=True)\n",
    "\n",
    "#discretizar valores numericos\n",
    "est = KBinsDiscretizer(n_bins=5, encode='ordinal', strategy='uniform')\n",
    "df[\"Temp\"] = pd.DataFrame(est.fit_transform(df[\"Temp\"].to_frame()),columns=[\"Temp\"])\n",
    "df[\"Humidity\"] = pd.DataFrame(est.fit_transform(df[\"Humidity\"].to_frame()),columns=[\"Humidity\"])\n",
    "\n",
    "\n",
    "#dividir em sets de treino e teste\n",
    "X_train, X_test, y_train, y_test = train_test_split(df, dfy, test_size=0.3,random_state=321)\n",
    "\n",
    "\n",
    "arvore = DTree()"
   ]
  },
  {
   "cell_type": "code",
   "execution_count": 3,
   "metadata": {},
   "outputs": [
    {
     "name": "stdout",
     "output_type": "stream",
     "text": [
      "<Windy>\n",
      "    False:\n",
      "        <Weather>\n",
      "            sunny:\n",
      "                <Temp>\n",
      "                    4.0: no (1)\n",
      "                    1.0:\n",
      "                        <Humidity>\n",
      "                            4.0: no (1)\n",
      "                            0.0: yes (1)\n",
      "            overcast: yes (2)\n",
      "            rainy: yes (3)\n",
      "    True:\n",
      "        <Humidity>\n",
      "            4.0:\n",
      "                <Temp>\n",
      "                    3.0: no (1)\n",
      "                    1.0:\n",
      "                        <Weather>\n",
      "                            overcast: yes (1)\n",
      "                            rainy: no (1)\n",
      "            0.0:\n",
      "                <Temp>\n",
      "                    0.0:\n",
      "                        <Weather>\n",
      "                            rainy: no (1)\n",
      "                            overcast: yes (1)\n",
      "                    2.0: yes (1)\n",
      "\n"
     ]
    }
   ],
   "source": [
    "arvore.create_DTree(df,dfy)\n",
    "print(arvore)"
   ]
  }
 ],
 "metadata": {
  "kernelspec": {
   "display_name": "Python 3",
   "language": "python",
   "name": "python3"
  },
  "language_info": {
   "codemirror_mode": {
    "name": "ipython",
    "version": 3
   },
   "file_extension": ".py",
   "mimetype": "text/x-python",
   "name": "python",
   "nbconvert_exporter": "python",
   "pygments_lexer": "ipython3",
   "version": "3.10.11"
  }
 },
 "nbformat": 4,
 "nbformat_minor": 2
}
