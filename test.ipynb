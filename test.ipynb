{
 "cells": [
  {
   "cell_type": "code",
   "execution_count": 4,
   "metadata": {},
   "outputs": [],
   "source": [
    "from DecisionTree import DTree\n",
    "import pandas as pd\n",
    "import numpy as np\n",
    "from sklearn.preprocessing import KBinsDiscretizer\n",
    "from sklearn.model_selection import train_test_split"
   ]
  },
  {
   "cell_type": "code",
   "execution_count": 5,
   "metadata": {},
   "outputs": [],
   "source": [
    "df = pd.read_csv(\"datasets/weather.csv\")\n",
    "pred = df[\"Play\"]\n",
    "df.drop(columns='Play',inplace=True)\n",
    "df.drop(columns='ID',inplace=True)\n",
    "\n",
    "#discretizar valores numericos\n",
    "est = KBinsDiscretizer(n_bins=5, encode='ordinal', strategy='uniform')\n",
    "for attrib in df.columns:\n",
    "    if (type(df[attrib][0]) == np.int64 ) and (len(df)/4 < len(df[attrib].unique())) : #condicao quando os dados sao numericos para serem discretizados\n",
    "        df[attrib] = pd.DataFrame(est.fit_transform(df[attrib].to_frame()),columns=[attrib])\n",
    "\n",
    "#dividir em sets de treino e teste\n",
    "X_train, X_test, y_train, y_test = train_test_split(df, pred, test_size=0.3,random_state=321)\n",
    "\n",
    "\n",
    "arvore = DTree()"
   ]
  },
  {
   "cell_type": "code",
   "execution_count": 6,
   "metadata": {},
   "outputs": [
    {
     "name": "stdout",
     "output_type": "stream",
     "text": [
      "<Windy>\n",
      "    True:\n",
      "        <Weather>\n",
      "            rainy: no (1)\n",
      "            sunny:\n",
      "                <Temp>\n",
      "                    3.0: no (1)\n",
      "                    2.0: yes (1)\n",
      "    False:\n",
      "        <Weather>\n",
      "            sunny:\n",
      "                <Temp>\n",
      "                    4.0: no (1)\n",
      "                    1.0: yes (1)\n",
      "            overcast: yes (2)\n",
      "            rainy: yes (2)\n",
      "\n"
     ]
    }
   ],
   "source": [
    "arvore.create_DTree(X_train,y_train)\n",
    "print(arvore)"
   ]
  }
 ],
 "metadata": {
  "kernelspec": {
   "display_name": "Python 3",
   "language": "python",
   "name": "python3"
  },
  "language_info": {
   "codemirror_mode": {
    "name": "ipython",
    "version": 3
   },
   "file_extension": ".py",
   "mimetype": "text/x-python",
   "name": "python",
   "nbconvert_exporter": "python",
   "pygments_lexer": "ipython3",
   "version": "3.10.11"
  }
 },
 "nbformat": 4,
 "nbformat_minor": 2
}
